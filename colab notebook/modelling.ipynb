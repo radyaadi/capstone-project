{
  "nbformat": 4,
  "nbformat_minor": 0,
  "metadata": {
    "colab": {
      "name": "modelling.ipynb",
      "provenance": [],
      "collapsed_sections": []
    },
    "kernelspec": {
      "name": "python3",
      "display_name": "Python 3"
    },
    "language_info": {
      "name": "python"
    }
  },
  "cells": [
    {
      "cell_type": "code",
      "execution_count": null,
      "metadata": {
        "id": "WujaVp529M2A"
      },
      "outputs": [],
      "source": [
        "#import library\n",
        "import numpy as np\n",
        "import matplotlib.pyplot as plt\n",
        "import pandas as pd\n",
        "import seaborn as sns\n",
        "\n",
        "from sklearn.model_selection import train_test_split\n",
        "from sklearn.neighbors import KNeighborsClassifier\n",
        "from sklearn.ensemble import RandomForestClassifier\n",
        "\n",
        "from sklearn.metrics import mean_squared_error\n",
        "from sklearn.metrics import classification_report\n",
        "from sklearn import metrics\n",
        "from sklearn.model_selection import cross_val_score\n",
        "import warnings\n",
        "warnings.filterwarnings('ignore')\n",
        "\n",
        "%matplotlib inline"
      ]
    },
    {
      "cell_type": "code",
      "source": [
        "#loading data\n",
        "df = pd.read_csv('https://raw.githubusercontent.com/MurwanjaniTejoRiyono/capstone/master/dataset/Crop_recommendation.csv')\n"
      ],
      "metadata": {
        "id": "UjP5geGP-lHx"
      },
      "execution_count": null,
      "outputs": []
    },
    {
      "cell_type": "code",
      "source": [
        "acc_value = []\n",
        "model = []\n",
        "models = pd.DataFrame(index=['train_mse', 'test_mse'], \n",
        "                      columns=['KNN', 'RandomForest'])"
      ],
      "metadata": {
        "id": "Z22M6W4f9plz"
      },
      "execution_count": null,
      "outputs": []
    },
    {
      "cell_type": "code",
      "source": [
        "features = df[[\"N\", \"P\", \"K\",\"temperature\", \"humidity\", \"ph\", \"rainfall\"]]\n",
        "targets = df[\"label\"]\n",
        "x_train, x_test, y_train, y_test = train_test_split(features, targets, test_size = 0.20, random_state = 123, stratify = targets)"
      ],
      "metadata": {
        "id": "Vo5fU6JT-Uqj"
      },
      "execution_count": null,
      "outputs": []
    },
    {
      "cell_type": "code",
      "source": [
        "print(f'Whole Dataset Total: {len(features)}')\n",
        "print(f'Train dataset Total: {len(x_train)}')\n",
        "print(f'Test dataset Total: {len(x_test)}')"
      ],
      "metadata": {
        "colab": {
          "base_uri": "https://localhost:8080/"
        },
        "id": "9oynzQa1-U7e",
        "outputId": "3bf96ed2-4a92-4a73-9e5d-f2c8fa8e2776"
      },
      "execution_count": null,
      "outputs": [
        {
          "output_type": "stream",
          "name": "stdout",
          "text": [
            "Whole Dataset Total: 2200\n",
            "Train dataset Total: 1760\n",
            "Test dataset Total: 440\n"
          ]
        }
      ]
    },
    {
      "cell_type": "code",
      "source": [
        "knn = KNeighborsClassifier(n_neighbors=10)\n",
        "knn.fit(x_train,y_train)\n",
        "value = knn.predict(x_test)\n",
        "\n",
        "knn_accuracy = metrics.accuracy_score(y_test, value)\n",
        "print(\"KNN Accuracy : \", knn_accuracy)\n",
        "print(\"\\n\", classification_report(y_test,value))\n",
        "\n",
        "acc_value.append(knn_accuracy)\n",
        "model.append('K Nearest Neighbours')"
      ],
      "metadata": {
        "colab": {
          "base_uri": "https://localhost:8080/"
        },
        "id": "u6yu0yL4-U9c",
        "outputId": "ad9d3e2f-056d-4f2b-a6a0-c288ce9027c0"
      },
      "execution_count": null,
      "outputs": [
        {
          "output_type": "stream",
          "name": "stdout",
          "text": [
            "KNN Accuracy :  0.9840909090909091\n",
            "\n",
            "               precision    recall  f1-score   support\n",
            "\n",
            "       apple       1.00      1.00      1.00        20\n",
            "      banana       1.00      1.00      1.00        20\n",
            "   blackgram       1.00      1.00      1.00        20\n",
            "    chickpea       1.00      1.00      1.00        20\n",
            "     coconut       1.00      1.00      1.00        20\n",
            "      coffee       1.00      1.00      1.00        20\n",
            "      cotton       1.00      1.00      1.00        20\n",
            "      grapes       1.00      1.00      1.00        20\n",
            "        jute       0.80      1.00      0.89        20\n",
            " kidneybeans       1.00      1.00      1.00        20\n",
            "      lentil       0.91      1.00      0.95        20\n",
            "       maize       1.00      1.00      1.00        20\n",
            "       mango       1.00      1.00      1.00        20\n",
            "   mothbeans       1.00      0.90      0.95        20\n",
            "    mungbean       1.00      1.00      1.00        20\n",
            "   muskmelon       1.00      1.00      1.00        20\n",
            "      orange       1.00      1.00      1.00        20\n",
            "      papaya       1.00      1.00      1.00        20\n",
            "  pigeonpeas       1.00      1.00      1.00        20\n",
            " pomegranate       1.00      1.00      1.00        20\n",
            "        rice       1.00      0.75      0.86        20\n",
            "  watermelon       1.00      1.00      1.00        20\n",
            "\n",
            "    accuracy                           0.98       440\n",
            "   macro avg       0.99      0.98      0.98       440\n",
            "weighted avg       0.99      0.98      0.98       440\n",
            "\n"
          ]
        }
      ]
    },
    {
      "cell_type": "code",
      "source": [
        "RF = RandomForestClassifier(n_estimators=150,max_depth=8,random_state=42)\n",
        "RF.fit(x_train,y_train)\n",
        "value = RF.predict(x_test)\n",
        "\n",
        "RF_accuracy = metrics.accuracy_score(y_test, value)\n",
        "print(\"Random Forest Accuracy is: \", RF_accuracy)\n",
        "print(classification_report(y_test,value))\n",
        "\n",
        "acc_value.append(RF_accuracy)\n",
        "model.append('Random Forest')"
      ],
      "metadata": {
        "colab": {
          "base_uri": "https://localhost:8080/"
        },
        "id": "vkZZWTDu-VAs",
        "outputId": "6788ab9d-3530-41ed-f822-cc888b79aff5"
      },
      "execution_count": null,
      "outputs": [
        {
          "output_type": "stream",
          "name": "stdout",
          "text": [
            "Random Forest Accuracy is:  0.9931818181818182\n",
            "              precision    recall  f1-score   support\n",
            "\n",
            "       apple       1.00      1.00      1.00        20\n",
            "      banana       1.00      1.00      1.00        20\n",
            "   blackgram       1.00      1.00      1.00        20\n",
            "    chickpea       1.00      1.00      1.00        20\n",
            "     coconut       1.00      1.00      1.00        20\n",
            "      coffee       1.00      1.00      1.00        20\n",
            "      cotton       1.00      1.00      1.00        20\n",
            "      grapes       1.00      1.00      1.00        20\n",
            "        jute       0.87      1.00      0.93        20\n",
            " kidneybeans       1.00      1.00      1.00        20\n",
            "      lentil       1.00      1.00      1.00        20\n",
            "       maize       1.00      1.00      1.00        20\n",
            "       mango       1.00      1.00      1.00        20\n",
            "   mothbeans       1.00      1.00      1.00        20\n",
            "    mungbean       1.00      1.00      1.00        20\n",
            "   muskmelon       1.00      1.00      1.00        20\n",
            "      orange       1.00      1.00      1.00        20\n",
            "      papaya       1.00      1.00      1.00        20\n",
            "  pigeonpeas       1.00      1.00      1.00        20\n",
            " pomegranate       1.00      1.00      1.00        20\n",
            "        rice       1.00      0.85      0.92        20\n",
            "  watermelon       1.00      1.00      1.00        20\n",
            "\n",
            "    accuracy                           0.99       440\n",
            "   macro avg       0.99      0.99      0.99       440\n",
            "weighted avg       0.99      0.99      0.99       440\n",
            "\n"
          ]
        }
      ]
    },
    {
      "cell_type": "code",
      "source": [
        "score = cross_val_score(knn,features,targets,cv=5)\n",
        "print('Cross validation score: ',score)"
      ],
      "metadata": {
        "colab": {
          "base_uri": "https://localhost:8080/"
        },
        "id": "MWUghGP5BVMI",
        "outputId": "d6531b2e-4a56-4c0e-bb1c-31c9987a687c"
      },
      "execution_count": null,
      "outputs": [
        {
          "output_type": "stream",
          "name": "stdout",
          "text": [
            "Cross validation score:  [0.96590909 0.975      0.97954545 0.96590909 0.97045455]\n"
          ]
        }
      ]
    },
    {
      "cell_type": "code",
      "source": [
        "score = cross_val_score(RF,features,targets,cv=5)\n",
        "print('Cross validation score: ',score)"
      ],
      "metadata": {
        "colab": {
          "base_uri": "https://localhost:8080/"
        },
        "id": "qbVfBZP1BVYD",
        "outputId": "83fecdb1-8ef3-4ba8-a6a7-c019c9e4d3a8"
      },
      "execution_count": null,
      "outputs": [
        {
          "output_type": "stream",
          "name": "stdout",
          "text": [
            "Cross validation score:  [0.99772727 0.99318182 0.99318182 0.99090909 0.98181818]\n"
          ]
        }
      ]
    },
    {
      "cell_type": "code",
      "source": [
        "plt.figure(figsize=(15,9))\n",
        "plt.title('Accuracy Comparison')\n",
        "plt.xlabel('Accuracy')\n",
        "plt.ylabel('Model')\n",
        "sns.barplot(x = acc_value, y = model)\n",
        "plt.show()"
      ],
      "metadata": {
        "colab": {
          "base_uri": "https://localhost:8080/",
          "height": 567
        },
        "id": "pVOlw1sDCXJe",
        "outputId": "acec6b43-0da0-4c05-e68a-0ac480d2c739"
      },
      "execution_count": null,
      "outputs": [
        {
          "output_type": "display_data",
          "data": {
            "image/png": "[encoded data removed]",
            "text/plain": [
              "<Figure size 1080x648 with 1 Axes>"
            ]
          },
          "metadata": {
            "needs_background": "light"
          }
        }
      ]
    },
    {
      "cell_type": "code",
      "source": [
        "nitrogen = float(input(\"Input Nitrogen Rate: \"))\n",
        "phosphorous = float(input(\"Input Phosphorous Rate: \"))\n",
        "pottasium = float(input(\"Input Pottasium Rate: \"))\n",
        "temperature = float(input(\"Input Temperature Rate: \"))\n",
        "humidity = float(input(\"Input Humidity Rate: \"))\n",
        "ph = float(input(\"Input pH Rate: \"))\n",
        "rainfall = float(input(\"Input R1ainfall: \"))"
      ],
      "metadata": {
        "colab": {
          "base_uri": "https://localhost:8080/"
        },
        "id": "-JKyEJwuFNds",
        "outputId": "b09a282e-2a5d-46f6-911d-a95cb23a2324"
      },
      "execution_count": null,
      "outputs": [
        {
          "name": "stdout",
          "output_type": "stream",
          "text": [
            "Input Nitrogen Rate: 74\n",
            "Input Phosphorous Rate: 35\n",
            "Input Pottasium Rate: 40\n",
            "Input Temperature Rate: 26\n",
            "Input Humidity Rate: 80\n",
            "Input pH Rate: 7\n",
            "Input R1ainfall: 243\n"
          ]
        }
      ]
    },
    {
      "cell_type": "code",
      "source": [
        "prediction = RF.predict([[nitrogen,\n",
        "                          phosphorous,\n",
        "                          pottasium,\n",
        "                          temperature,\n",
        "                          humidity,\n",
        "                          ph,\n",
        "                          rainfall]])\n",
        "print(\"Rekomendasi Tanaman yang Dihasilkan Berdasarkan Data Tersebut Adalah :\".join(prediction))"
      ],
      "metadata": {
        "colab": {
          "base_uri": "https://localhost:8080/"
        },
        "id": "tYw8-G4pIwIQ",
        "outputId": "5ff94fca-f359-4fd9-f9e2-994c717b24f9"
      },
      "execution_count": null,
      "outputs": [
        {
          "output_type": "stream",
          "name": "stdout",
          "text": [
            "rice\n"
          ]
        }
      ]
    }
  ]
}